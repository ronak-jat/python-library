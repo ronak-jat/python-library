{
 "cells": [
  {
   "cell_type": "code",
   "execution_count": 1,
   "id": "3846e9fd",
   "metadata": {},
   "outputs": [],
   "source": [
    "import numpy as np"
   ]
  },
  {
   "cell_type": "code",
   "execution_count": 2,
   "id": "b4641ce6",
   "metadata": {},
   "outputs": [
    {
     "data": {
      "text/plain": [
       "array([ 45,   7,   9,   3, 678,   3,  43,   5])"
      ]
     },
     "execution_count": 2,
     "metadata": {},
     "output_type": "execute_result"
    }
   ],
   "source": [
    "l=[45,7,9,3,678,3,43,5]\n",
    "n=np.array(l)\n",
    "n"
   ]
  },
  {
   "cell_type": "code",
   "execution_count": 3,
   "id": "d8611a6f",
   "metadata": {},
   "outputs": [
    {
     "name": "stdout",
     "output_type": "stream",
     "text": [
      "[  5.3  89.  358.   58.    4. ]\n"
     ]
    }
   ],
   "source": [
    "l=[5.3,89,358,58,4]\n",
    "n=np.array(l)\n",
    "print(n)"
   ]
  },
  {
   "cell_type": "code",
   "execution_count": 4,
   "id": "b2ba3729",
   "metadata": {},
   "outputs": [
    {
     "name": "stdout",
     "output_type": "stream",
     "text": [
      "[  5.  89. 358.  58.   4.]\n"
     ]
    }
   ],
   "source": [
    "l=[5,89,358,58,4]\n",
    "n=np.asarray(l,dtype='float32')\n",
    "print(n)"
   ]
  },
  {
   "cell_type": "code",
   "execution_count": 5,
   "id": "77709e61",
   "metadata": {},
   "outputs": [
    {
     "name": "stdout",
     "output_type": "stream",
     "text": [
      "[[2 3 4]\n",
      " [4 5 6]\n",
      " [6 7 8]]\n",
      "3 7\n"
     ]
    }
   ],
   "source": [
    " n= np.array([range(i, i + 3) for i in [2, 4, 6]])\n",
    "print(n)\n",
    "print(n[0,1],n[2,1])"
   ]
  },
  {
   "cell_type": "code",
   "execution_count": 6,
   "id": "28ce4de7",
   "metadata": {},
   "outputs": [
    {
     "name": "stdout",
     "output_type": "stream",
     "text": [
      "(3, 3)\n"
     ]
    }
   ],
   "source": [
    "print(n.shape)"
   ]
  },
  {
   "cell_type": "code",
   "execution_count": 7,
   "id": "47bb7821",
   "metadata": {},
   "outputs": [
    {
     "name": "stdout",
     "output_type": "stream",
     "text": [
      "int64\n"
     ]
    }
   ],
   "source": [
    "print(n.dtype)"
   ]
  },
  {
   "cell_type": "code",
   "execution_count": 8,
   "id": "03fe77a7",
   "metadata": {},
   "outputs": [
    {
     "name": "stdout",
     "output_type": "stream",
     "text": [
      "[[ 2  3  4]\n",
      " [ 4  5  6]\n",
      " [90  7  8]]\n"
     ]
    }
   ],
   "source": [
    "n[2,0]=90\n",
    "print(n)"
   ]
  },
  {
   "cell_type": "code",
   "execution_count": 9,
   "id": "dfa4990a",
   "metadata": {},
   "outputs": [
    {
     "name": "stdout",
     "output_type": "stream",
     "text": [
      "9\n"
     ]
    }
   ],
   "source": [
    "print(n.size)"
   ]
  },
  {
   "cell_type": "code",
   "execution_count": 10,
   "id": "01a39e3d",
   "metadata": {},
   "outputs": [
    {
     "name": "stdout",
     "output_type": "stream",
     "text": [
      "{632, 34, 678}\n",
      "object\n",
      "<class 'numpy.ndarray'>\n"
     ]
    }
   ],
   "source": [
    "dic=np.array({34,632,678})\n",
    "print(dic)\n",
    "print(dic.dtype)\n",
    "print(type(dic))"
   ]
  },
  {
   "cell_type": "code",
   "execution_count": 11,
   "id": "35752445",
   "metadata": {},
   "outputs": [
    {
     "name": "stdout",
     "output_type": "stream",
     "text": [
      "[[0. 0. 0. 0. 0.]\n",
      " [0. 0. 0. 0. 0.]]\n"
     ]
    }
   ],
   "source": [
    "zero=np.zeros((2,5))\n",
    "print(zero)"
   ]
  },
  {
   "cell_type": "code",
   "execution_count": 12,
   "id": "be0293d2",
   "metadata": {},
   "outputs": [
    {
     "name": "stdout",
     "output_type": "stream",
     "text": [
      "[ 0  1  2  3  4  5  6  7  8  9 10 11 12]\n"
     ]
    }
   ],
   "source": [
    "aran=np.arange(13)\n",
    "print(aran) "
   ]
  },
  {
   "cell_type": "code",
   "execution_count": 13,
   "id": "8919db56",
   "metadata": {},
   "outputs": [
    {
     "name": "stdout",
     "output_type": "stream",
     "text": [
      "[ 1.  2.  3.  4.  5.  6.  7.  8.  9. 10.]\n",
      "[ 1.         6.4444447 11.888889  17.333334  22.777779  28.222221\n",
      " 33.666668  39.11111   44.555557  50.       ]\n"
     ]
    }
   ],
   "source": [
    "lspace=np.linspace(1,10,10,dtype='float32')\n",
    "lspace2=np.linspace(1,50,10,dtype='float32')\n",
    "print(lspace)\n",
    "print(lspace2)"
   ]
  },
  {
   "cell_type": "code",
   "execution_count": 14,
   "id": "fd985956",
   "metadata": {},
   "outputs": [
    {
     "name": "stdout",
     "output_type": "stream",
     "text": [
      "[[0.00000000e+000 0.00000000e+000 3.84081238e-312 3.92569221e-312\n",
      "  8.72100932e+183]\n",
      " [1.00341853e-311 3.44618852e-085 1.00341853e-311 3.98837290e+252\n",
      "  1.00341853e-311]\n",
      " [9.48694547e+170 1.00341853e-311 4.82406433e+228 1.00341853e-311\n",
      "  2.28133101e+161]\n",
      " [1.00341853e-311 2.87302937e+161 1.00341853e-311 7.20637607e+252\n",
      "  1.00341853e-311]]\n"
     ]
    }
   ],
   "source": [
    "emp=np.empty((4,5))\n",
    "print(emp)"
   ]
  },
  {
   "cell_type": "code",
   "execution_count": 15,
   "id": "79338be2",
   "metadata": {},
   "outputs": [
    {
     "name": "stdout",
     "output_type": "stream",
     "text": [
      "[ 1.         6.4444447 11.888889  17.333334  22.777779  28.222221\n",
      " 33.666668  39.11111   44.555557  50.       ]\n"
     ]
    }
   ],
   "source": [
    "emp2=np.empty_like(lspace2)\n",
    "print(emp2)"
   ]
  },
  {
   "cell_type": "code",
   "execution_count": 16,
   "id": "a8e42a83",
   "metadata": {},
   "outputs": [
    {
     "data": {
      "text/plain": [
       "array([[1., 0., 0., 0.],\n",
       "       [0., 1., 0., 0.],\n",
       "       [0., 0., 1., 0.],\n",
       "       [0., 0., 0., 1.]])"
      ]
     },
     "execution_count": 16,
     "metadata": {},
     "output_type": "execute_result"
    }
   ],
   "source": [
    "idt=np.identity(4)\n",
    "idt"
   ]
  },
  {
   "cell_type": "code",
   "execution_count": 17,
   "id": "df98cc26",
   "metadata": {},
   "outputs": [
    {
     "name": "stdout",
     "output_type": "stream",
     "text": [
      "[[ 0  1  2  3  4  5  6  7  8  9 10 11 12 13 14]\n",
      " [15 16 17 18 19 20 21 22 23 24 25 26 27 28 29]\n",
      " [30 31 32 33 34 35 36 37 38 39 40 41 42 43 44]\n",
      " [45 46 47 48 49 50 51 52 53 54 55 56 57 58 59]]\n"
     ]
    }
   ],
   "source": [
    "a=np.arange(60)\n",
    "a=a.reshape(4,15)\n",
    "print (a)"
   ]
  },
  {
   "cell_type": "code",
   "execution_count": 18,
   "id": "ee0f2638",
   "metadata": {},
   "outputs": [
    {
     "name": "stdout",
     "output_type": "stream",
     "text": [
      "[ 0  1  2  3  4  5  6  7  8  9 10 11 12 13 14 15 16 17 18 19 20 21 22 23\n",
      " 24 25 26 27 28 29 30 31 32 33 34 35 36 37 38 39 40 41 42 43 44 45 46 47\n",
      " 48 49 50 51 52 53 54 55 56 57 58 59]\n"
     ]
    }
   ],
   "source": [
    "a=a.ravel()\n",
    "print(a)"
   ]
  },
  {
   "cell_type": "code",
   "execution_count": 19,
   "id": "25727a2c",
   "metadata": {},
   "outputs": [
    {
     "name": "stdout",
     "output_type": "stream",
     "text": [
      "[12 15 18]\n"
     ]
    },
    {
     "data": {
      "text/plain": [
       "array([ 9, 15, 21])"
      ]
     },
     "execution_count": 19,
     "metadata": {},
     "output_type": "execute_result"
    }
   ],
   "source": [
    "arr=np.array([range(i, i + 3) for i in [2, 4, 6]])\n",
    "print(arr.sum(axis=0))\n",
    "arr.sum(axis=1)"
   ]
  },
  {
   "cell_type": "code",
   "execution_count": 20,
   "id": "15767ba5",
   "metadata": {},
   "outputs": [
    {
     "data": {
      "text/plain": [
       "array([[2, 4, 6],\n",
       "       [3, 5, 7],\n",
       "       [4, 6, 8]])"
      ]
     },
     "execution_count": 20,
     "metadata": {},
     "output_type": "execute_result"
    }
   ],
   "source": [
    "arr.T"
   ]
  },
  {
   "cell_type": "code",
   "execution_count": 21,
   "id": "2f680fd5",
   "metadata": {},
   "outputs": [
    {
     "name": "stdout",
     "output_type": "stream",
     "text": [
      "2\n",
      "3\n",
      "4\n",
      "4\n",
      "5\n",
      "6\n",
      "6\n",
      "7\n",
      "8\n"
     ]
    }
   ],
   "source": [
    "for i in arr.flat:\n",
    "    print(i)"
   ]
  },
  {
   "cell_type": "code",
   "execution_count": 22,
   "id": "b3836ef3",
   "metadata": {},
   "outputs": [
    {
     "data": {
      "text/plain": [
       "2"
      ]
     },
     "execution_count": 22,
     "metadata": {},
     "output_type": "execute_result"
    }
   ],
   "source": [
    "arr.ndim"
   ]
  },
  {
   "cell_type": "code",
   "execution_count": 23,
   "id": "8ca27bcf",
   "metadata": {},
   "outputs": [
    {
     "data": {
      "text/plain": [
       "72"
      ]
     },
     "execution_count": 23,
     "metadata": {},
     "output_type": "execute_result"
    }
   ],
   "source": [
    "\n",
    "arr.nbytes"
   ]
  },
  {
   "cell_type": "code",
   "execution_count": 24,
   "id": "4c446710",
   "metadata": {},
   "outputs": [
    {
     "data": {
      "text/plain": [
       "np.int64(6)"
      ]
     },
     "execution_count": 24,
     "metadata": {},
     "output_type": "execute_result"
    }
   ],
   "source": [
    "n.argmax()"
   ]
  },
  {
   "cell_type": "code",
   "execution_count": 25,
   "id": "3686820a",
   "metadata": {},
   "outputs": [
    {
     "data": {
      "text/plain": [
       "np.int64(0)"
      ]
     },
     "execution_count": 25,
     "metadata": {},
     "output_type": "execute_result"
    }
   ],
   "source": [
    "n.argmin()"
   ]
  },
  {
   "cell_type": "code",
   "execution_count": 26,
   "id": "68ac4ecc",
   "metadata": {},
   "outputs": [
    {
     "name": "stdout",
     "output_type": "stream",
     "text": [
      "[[ 2  3  4]\n",
      " [ 4  5  6]\n",
      " [90  7  8]]\n"
     ]
    },
    {
     "data": {
      "text/plain": [
       "array([[0, 1, 2],\n",
       "       [0, 1, 2],\n",
       "       [1, 2, 0]])"
      ]
     },
     "execution_count": 26,
     "metadata": {},
     "output_type": "execute_result"
    }
   ],
   "source": [
    "print(n)\n",
    "n.argsort()"
   ]
  },
  {
   "cell_type": "code",
   "execution_count": 27,
   "id": "21eb9b4e",
   "metadata": {},
   "outputs": [
    {
     "data": {
      "text/plain": [
       "np.int64(8)"
      ]
     },
     "execution_count": 27,
     "metadata": {},
     "output_type": "execute_result"
    }
   ],
   "source": [
    "arr.argmax()"
   ]
  },
  {
   "cell_type": "code",
   "execution_count": 28,
   "id": "3104b5c0",
   "metadata": {
    "scrolled": true
   },
   "outputs": [
    {
     "data": {
      "text/plain": [
       "np.int64(0)"
      ]
     },
     "execution_count": 28,
     "metadata": {},
     "output_type": "execute_result"
    }
   ],
   "source": [
    "arr.argmin()"
   ]
  },
  {
   "cell_type": "code",
   "execution_count": 29,
   "id": "a4907264",
   "metadata": {
    "scrolled": true
   },
   "outputs": [
    {
     "data": {
      "text/plain": [
       "array([2, 2, 2])"
      ]
     },
     "execution_count": 29,
     "metadata": {},
     "output_type": "execute_result"
    }
   ],
   "source": [
    "arr.argmax(axis=0) "
   ]
  },
  {
   "cell_type": "code",
   "execution_count": 30,
   "id": "5eba68d8",
   "metadata": {},
   "outputs": [
    {
     "data": {
      "text/plain": [
       "array([2, 2, 2])"
      ]
     },
     "execution_count": 30,
     "metadata": {},
     "output_type": "execute_result"
    }
   ],
   "source": [
    "arr.argmax(axis=1) "
   ]
  },
  {
   "cell_type": "code",
   "execution_count": 31,
   "id": "a22127bb",
   "metadata": {},
   "outputs": [
    {
     "data": {
      "text/plain": [
       "array([[0, 0, 0],\n",
       "       [1, 1, 1],\n",
       "       [2, 2, 2]])"
      ]
     },
     "execution_count": 31,
     "metadata": {},
     "output_type": "execute_result"
    }
   ],
   "source": [
    "arr.argsort(axis=0)"
   ]
  },
  {
   "cell_type": "code",
   "execution_count": 32,
   "id": "9d1e3224",
   "metadata": {},
   "outputs": [
    {
     "data": {
      "text/plain": [
       "array([[2, 3, 4],\n",
       "       [4, 5, 6],\n",
       "       [6, 7, 8]])"
      ]
     },
     "execution_count": 32,
     "metadata": {},
     "output_type": "execute_result"
    }
   ],
   "source": [
    "arr\n"
   ]
  },
  {
   "cell_type": "code",
   "execution_count": 33,
   "id": "fdc2625d",
   "metadata": {},
   "outputs": [
    {
     "data": {
      "text/plain": [
       "array([[6, 3, 8],\n",
       "       [8, 3, 9],\n",
       "       [1, 4, 7]])"
      ]
     },
     "execution_count": 33,
     "metadata": {},
     "output_type": "execute_result"
    }
   ],
   "source": [
    "arr1=np.array([[6,3,8],[8,3,9],[1,4,7]])\n",
    "arr1"
   ]
  },
  {
   "cell_type": "code",
   "execution_count": 34,
   "id": "adb18ede",
   "metadata": {},
   "outputs": [
    {
     "data": {
      "text/plain": [
       "array([[ 8,  6, 12],\n",
       "       [12,  8, 15],\n",
       "       [ 7, 11, 15]])"
      ]
     },
     "execution_count": 34,
     "metadata": {},
     "output_type": "execute_result"
    }
   ],
   "source": [
    "arr+arr1"
   ]
  },
  {
   "cell_type": "code",
   "execution_count": 35,
   "id": "d88af709",
   "metadata": {},
   "outputs": [
    {
     "data": {
      "text/plain": [
       "array([[12,  9, 32],\n",
       "       [32, 15, 54],\n",
       "       [ 6, 28, 56]])"
      ]
     },
     "execution_count": 35,
     "metadata": {},
     "output_type": "execute_result"
    }
   ],
   "source": [
    "arr*arr1"
   ]
  },
  {
   "cell_type": "code",
   "execution_count": 36,
   "id": "a008cbab",
   "metadata": {},
   "outputs": [
    {
     "data": {
      "text/plain": [
       "array([[2.44948974, 1.73205081, 2.82842712],\n",
       "       [2.82842712, 1.73205081, 3.        ],\n",
       "       [1.        , 2.        , 2.64575131]])"
      ]
     },
     "execution_count": 36,
     "metadata": {},
     "output_type": "execute_result"
    }
   ],
   "source": [
    "np.sqrt(arr1)"
   ]
  },
  {
   "cell_type": "code",
   "execution_count": 37,
   "id": "b70de850",
   "metadata": {},
   "outputs": [
    {
     "data": {
      "text/plain": [
       "np.int64(49)"
      ]
     },
     "execution_count": 37,
     "metadata": {},
     "output_type": "execute_result"
    }
   ],
   "source": [
    "arr1.sum()"
   ]
  },
  {
   "cell_type": "code",
   "execution_count": 38,
   "id": "17df4e63",
   "metadata": {},
   "outputs": [
    {
     "name": "stdout",
     "output_type": "stream",
     "text": [
      "(array([0, 1, 1, 2]), array([2, 0, 2, 2]))\n"
     ]
    }
   ],
   "source": [
    "print(np.where(arr1>6))"
   ]
  },
  {
   "cell_type": "code",
   "execution_count": 39,
   "id": "ad7c7b14",
   "metadata": {},
   "outputs": [
    {
     "data": {
      "text/plain": [
       "(array([0, 0, 0, 1, 1, 1, 2, 2, 2]), array([0, 1, 2, 0, 1, 2, 0, 1, 2]))"
      ]
     },
     "execution_count": 39,
     "metadata": {},
     "output_type": "execute_result"
    }
   ],
   "source": [
    "np.nonzero(arr1)"
   ]
  },
  {
   "cell_type": "code",
   "execution_count": 40,
   "id": "cd48691b",
   "metadata": {},
   "outputs": [
    {
     "data": {
      "text/plain": [
       "9"
      ]
     },
     "execution_count": 40,
     "metadata": {},
     "output_type": "execute_result"
    }
   ],
   "source": [
    "np.count_nonzero(arr1)"
   ]
  },
  {
   "cell_type": "code",
   "execution_count": 41,
   "id": "dbb71914",
   "metadata": {},
   "outputs": [
    {
     "name": "stdout",
     "output_type": "stream",
     "text": [
      "[1.+0.j 2.+0.j 3.+0.j]\n"
     ]
    }
   ],
   "source": [
    "import numpy as np\n",
    "a = np.array([1, 2, 3], dtype=complex)\n",
    "print(a) "
   ]
  },
  {
   "cell_type": "code",
   "execution_count": 42,
   "id": "fb111c08",
   "metadata": {},
   "outputs": [
    {
     "name": "stdout",
     "output_type": "stream",
     "text": [
      "int32\n"
     ]
    }
   ],
   "source": [
    "dt=np.dtype(np.int32)\n",
    "print (dt)"
   ]
  },
  {
   "cell_type": "code",
   "execution_count": 43,
   "id": "b201091a",
   "metadata": {},
   "outputs": [],
   "source": [
    "#int8, int16, int32, int64 can be replaced by equivalent string 'i1', 'i2','i4',etc."
   ]
  },
  {
   "cell_type": "code",
   "execution_count": 44,
   "id": "c94a0a59",
   "metadata": {},
   "outputs": [
    {
     "name": "stdout",
     "output_type": "stream",
     "text": [
      "[10 20 30]\n"
     ]
    },
    {
     "data": {
      "text/plain": [
       "array([(10,), (20,), (30,)], dtype=[('age', 'i1')])"
      ]
     },
     "execution_count": 44,
     "metadata": {},
     "output_type": "execute_result"
    }
   ],
   "source": [
    "dt = np.dtype([('age',np.int8)])\n",
    "a = np.array([(10,),(20,),(30,)], dtype=dt)\n",
    "print( a['age'])\n",
    "a['age']\n",
    "a"
   ]
  },
  {
   "cell_type": "code",
   "execution_count": 45,
   "id": "0df626c9",
   "metadata": {},
   "outputs": [
    {
     "name": "stdout",
     "output_type": "stream",
     "text": [
      "[[(45, 45.) (16, 16.) (45, 45.)]\n",
      " [(54, 54.) (17, 17.) (46, 46.)]\n",
      " [(45, 45.) (13, 13.) (34, 34.)]]\n"
     ]
    },
    {
     "data": {
      "text/plain": [
       "array([[(45, 45.), (16, 16.), (45, 45.)],\n",
       "       [(54, 54.), (17, 17.), (46, 46.)],\n",
       "       [(45, 45.), (13, 13.), (34, 34.)]],\n",
       "      dtype=[('age', 'i1'), ('marks', '<f2')])"
      ]
     },
     "execution_count": 45,
     "metadata": {},
     "output_type": "execute_result"
    }
   ],
   "source": [
    "dt=np.dtype([('age',np.int8),('marks',np.float16)])\n",
    "student=np.array([[45,16,45],[54,17,46],[45,13,34]],dtype=dt)\n",
    "print(student)\n",
    "student"
   ]
  },
  {
   "cell_type": "code",
   "execution_count": 46,
   "id": "3a9f7a0a",
   "metadata": {},
   "outputs": [
    {
     "data": {
      "text/plain": [
       "array([[1, 2],\n",
       "       [3, 4],\n",
       "       [5, 6]])"
      ]
     },
     "execution_count": 46,
     "metadata": {},
     "output_type": "execute_result"
    }
   ],
   "source": [
    "a=np.array([[1,2,3],[4,5,6]])\n",
    "a.shape=(3,2)\n",
    "a"
   ]
  },
  {
   "cell_type": "code",
   "execution_count": 47,
   "id": "1d2fb9ed",
   "metadata": {},
   "outputs": [
    {
     "name": "stdout",
     "output_type": "stream",
     "text": [
      "1\n",
      "  C_CONTIGUOUS : True\n",
      "  F_CONTIGUOUS : True\n",
      "  OWNDATA : True\n",
      "  WRITEABLE : True\n",
      "  ALIGNED : True\n",
      "  WRITEBACKIFCOPY : False\n",
      "\n"
     ]
    },
    {
     "data": {
      "text/plain": [
       "5"
      ]
     },
     "execution_count": 47,
     "metadata": {},
     "output_type": "execute_result"
    }
   ],
   "source": [
    "import numpy as np\n",
    "x = np.array([1,2,3,4,5], dtype=np.int8)\n",
    "print  ( x.itemsize)\n",
    "print(x.flags)\n",
    "x.size"
   ]
  },
  {
   "cell_type": "code",
   "execution_count": 48,
   "id": "0eb7f4eb",
   "metadata": {},
   "outputs": [
    {
     "name": "stdout",
     "output_type": "stream",
     "text": [
      "[[(0, 0) (0, 0) (0, 0)]\n",
      " [(0, 0) (0, 0) (0, 0)]\n",
      " [(0, 0) (0, 0) (0, 0)]]\n"
     ]
    }
   ],
   "source": [
    "x = np.zeros((3,3), dtype=[('x', 'i4'), ('y', 'i4')])\n",
    "print(x)"
   ]
  },
  {
   "cell_type": "code",
   "execution_count": 49,
   "id": "93f79068",
   "metadata": {},
   "outputs": [
    {
     "data": {
      "text/plain": [
       "array([1., 1., 1., 1., 1.])"
      ]
     },
     "execution_count": 49,
     "metadata": {},
     "output_type": "execute_result"
    }
   ],
   "source": [
    "x=np.ones(5)\n",
    "x"
   ]
  },
  {
   "cell_type": "code",
   "execution_count": 50,
   "id": "506eaec4",
   "metadata": {},
   "outputs": [
    {
     "data": {
      "text/plain": [
       "array([[1., 1., 1., 1., 1.],\n",
       "       [1., 1., 1., 1., 1.],\n",
       "       [1., 1., 1., 1., 1.]])"
      ]
     },
     "execution_count": 50,
     "metadata": {},
     "output_type": "execute_result"
    }
   ],
   "source": [
    "x=np.ones([3,5])\n",
    "x"
   ]
  },
  {
   "cell_type": "code",
   "execution_count": 52,
   "id": "9bdd0489",
   "metadata": {},
   "outputs": [
    {
     "name": "stdout",
     "output_type": "stream",
     "text": [
      "[0. 1. 2. 3. 4.]\n"
     ]
    }
   ],
   "source": [
    "list = range(5)\n",
    "it = iter(list)\n",
    "x = np.fromiter(it, dtype=float)\n",
    "print(x)"
   ]
  },
  {
   "cell_type": "code",
   "execution_count": 53,
   "id": "577909a8",
   "metadata": {},
   "outputs": [
    {
     "name": "stdout",
     "output_type": "stream",
     "text": [
      "[b'H' b'e' b'l' b'l' b'o' b' ' b'W' b'o' b'r' b'l' b'd']\n"
     ]
    }
   ],
   "source": [
    "s = b'Hello World'\n",
    "a = np.frombuffer(s,dtype='S1')\n",
    "print (a)"
   ]
  },
  {
   "cell_type": "code",
   "execution_count": 54,
   "id": "cd9480a6",
   "metadata": {},
   "outputs": [
    {
     "data": {
      "text/plain": [
       "array([[7, 7, 7, 7, 7, 7],\n",
       "       [7, 7, 7, 7, 7, 7]])"
      ]
     },
     "execution_count": 54,
     "metadata": {},
     "output_type": "execute_result"
    }
   ],
   "source": [
    "e = np.full((2,6),7)\n",
    "e"
   ]
  },
  {
   "cell_type": "code",
   "execution_count": 55,
   "id": "ae5bcf59",
   "metadata": {},
   "outputs": [
    {
     "data": {
      "text/plain": [
       "array([[1., 0., 0., 0., 0., 0., 0.],\n",
       "       [0., 1., 0., 0., 0., 0., 0.],\n",
       "       [0., 0., 1., 0., 0., 0., 0.],\n",
       "       [0., 0., 0., 1., 0., 0., 0.],\n",
       "       [0., 0., 0., 0., 1., 0., 0.],\n",
       "       [0., 0., 0., 0., 0., 1., 0.],\n",
       "       [0., 0., 0., 0., 0., 0., 1.]])"
      ]
     },
     "execution_count": 55,
     "metadata": {},
     "output_type": "execute_result"
    }
   ],
   "source": [
    "f = np.eye(7) \n",
    "f"
   ]
  },
  {
   "cell_type": "code",
   "execution_count": 56,
   "id": "24cd6bf9",
   "metadata": {},
   "outputs": [
    {
     "name": "stdout",
     "output_type": "stream",
     "text": [
      "[[0.9716283  0.95812298 0.54460881 0.60249746 0.03934886 0.98602896]\n",
      " [0.67013177 0.61712666 0.09507951 0.48785876 0.44828477 0.32928553]\n",
      " [0.86838054 0.07845637 0.34257797 0.68317157 0.98848498 0.71506215]\n",
      " [0.16798734 0.80509193 0.34449235 0.69964268 0.85738508 0.14655036]]\n",
      "[[0.9716283  0.67013177 0.86838054 0.16798734]\n",
      " [0.95812298 0.61712666 0.07845637 0.80509193]\n",
      " [0.54460881 0.09507951 0.34257797 0.34449235]\n",
      " [0.60249746 0.48785876 0.68317157 0.69964268]\n",
      " [0.03934886 0.44828477 0.98848498 0.85738508]\n",
      " [0.98602896 0.32928553 0.71506215 0.14655036]]\n"
     ]
    }
   ],
   "source": [
    "a=np.random.random((4,6))\n",
    "print(a)\n",
    "print(a.T)"
   ]
  },
  {
   "cell_type": "code",
   "execution_count": 57,
   "id": "d3650f11",
   "metadata": {},
   "outputs": [
    {
     "name": "stdout",
     "output_type": "stream",
     "text": [
      "[ 0.98935825  0.90929743  0.6569866  -0.2794155   0.98935825 -0.2794155\n",
      " -0.2794155   0.41211849  0.84147098 -0.95892427]\n",
      "[-0.14550003 -0.41614684  0.75390225  0.96017029 -0.14550003  0.96017029\n",
      "  0.96017029 -0.91113026  0.54030231  0.28366219]\n",
      "[2.07944154 0.69314718 1.94591015 1.79175947 2.07944154 1.79175947\n",
      " 1.79175947 2.19722458 0.         1.60943791]\n",
      "[2.98095799e+03 7.38905610e+00 1.09663316e+03 4.03428793e+02\n",
      " 2.98095799e+03 4.03428793e+02 4.03428793e+02 8.10308393e+03\n",
      " 2.71828183e+00 1.48413159e+02]\n",
      "[2.82842712 1.41421356 2.64575131 2.44948974 2.82842712 2.44948974\n",
      " 2.44948974 3.         1.         2.23606798]\n"
     ]
    }
   ],
   "source": [
    "a=np.random.randint(0,10,10)\n",
    "print(np.sin(a))\n",
    "print(np.cos(a))\n",
    "print(np.log(a))\n",
    "print(np.exp(a))\n",
    "print(np.sqrt(a))"
   ]
  },
  {
   "cell_type": "code",
   "execution_count": 58,
   "id": "9f792042",
   "metadata": {},
   "outputs": [
    {
     "data": {
      "text/plain": [
       "array([[ 2,  4,  1],\n",
       "       [ 6,  4,  9],\n",
       "       [ 8, 25,  0]], dtype=int16)"
      ]
     },
     "execution_count": 58,
     "metadata": {},
     "output_type": "execute_result"
    }
   ],
   "source": [
    "n=np.array([[2,4,1],[6,4,9],[8,25,0]],dtype='int16')\n",
    "n"
   ]
  },
  {
   "cell_type": "code",
   "execution_count": null,
   "id": "69283939",
   "metadata": {},
   "outputs": [
    {
     "name": "stdout",
     "output_type": "stream",
     "text": [
      "7\n",
      "8\n",
      "25\n",
      "0\n"
     ]
    }
   ],
   "source": [
    "print(n.argmax())\n",
    "print(n.argmin())\n",
    "print(n.max())\n",
    "print(n.min())"
   ]
  },
  {
   "cell_type": "code",
   "execution_count": 60,
   "id": "51545d11",
   "metadata": {},
   "outputs": [
    {
     "name": "stdout",
     "output_type": "stream",
     "text": [
      "[[2 0 1]\n",
      " [1 0 2]\n",
      " [2 0 1]]\n",
      "[[ 2  4  1]\n",
      " [ 6  4  9]\n",
      " [ 8 25  0]]\n"
     ]
    }
   ],
   "source": [
    "print(n.argsort())\n",
    "print(n)"
   ]
  },
  {
   "cell_type": "code",
   "execution_count": 61,
   "id": "4ebf3156",
   "metadata": {},
   "outputs": [
    {
     "name": "stdout",
     "output_type": "stream",
     "text": [
      "[[0 0 2]\n",
      " [1 1 0]\n",
      " [2 2 1]]\n",
      "[[2 0 1]\n",
      " [1 0 2]\n",
      " [2 0 1]]\n",
      "[[ 2  4  1]\n",
      " [ 6  4  9]\n",
      " [ 8 25  0]]\n"
     ]
    }
   ],
   "source": [
    "print(n.argsort(axis=0))\n",
    "print(n.argsort(axis=1))\n",
    "print(n)"
   ]
  },
  {
   "cell_type": "code",
   "execution_count": 62,
   "id": "01a83762",
   "metadata": {},
   "outputs": [
    {
     "name": "stdout",
     "output_type": "stream",
     "text": [
      "59\n",
      "[16 33 10]\n",
      "[ 7 19 33]\n"
     ]
    }
   ],
   "source": [
    "print(n.sum())\n",
    "print(n.sum(axis=0))\n",
    "print(n.sum(axis=1))"
   ]
  },
  {
   "cell_type": "code",
   "execution_count": 63,
   "id": "bc3cbe69",
   "metadata": {},
   "outputs": [
    {
     "data": {
      "text/plain": [
       "array([[ 2,  4,  0],\n",
       "       [ 6,  4,  1],\n",
       "       [ 8, 25,  9]], dtype=int16)"
      ]
     },
     "execution_count": 63,
     "metadata": {},
     "output_type": "execute_result"
    }
   ],
   "source": [
    "n.sort(axis=0)\n",
    "n"
   ]
  },
  {
   "cell_type": "code",
   "execution_count": 64,
   "id": "bf319e52",
   "metadata": {},
   "outputs": [
    {
     "name": "stdout",
     "output_type": "stream",
     "text": [
      "<class 'numpy.matrix'>\n",
      "[[ 36  13  35]\n",
      " [ 98  36  91]\n",
      " [166  58 181]]\n",
      "[[ 1  4  0]\n",
      " [ 2  6  8]\n",
      " [ 4  9 25]]\n"
     ]
    }
   ],
   "source": [
    "mat=np.matrix([[ 1,  2,  4],[ 4,  6,  9],[ 0,  8, 25]])\n",
    "mat1=np.matrix([[ 8,  3,  1],[ 2,  1,  7],[ 6,  2, 5]])\n",
    "print(type(mat))\n",
    "print(mat.dot(mat1))\n",
    "print(mat.transpose())"
   ]
  },
  {
   "cell_type": "code",
   "execution_count": 65,
   "id": "11c5b368",
   "metadata": {
    "scrolled": true
   },
   "outputs": [
    {
     "name": "stdout",
     "output_type": "stream",
     "text": [
      "[[-0.40909091 -0.59090909  0.90909091]\n",
      " [ 1.45454545  1.54545455 -2.45454545]\n",
      " [-0.09090909  0.09090909  0.09090909]]\n",
      "[[10304  3833  5390]\n",
      " [ 9428  3501  4944]\n",
      " [11722  4358  6133]]\n",
      "[[1 0 0]\n",
      " [0 1 0]\n",
      " [0 0 1]]\n",
      "[[-0.31725548 -0.07756045  0.34134451]\n",
      " [ 0.5619664   0.05486306 -0.53811215]\n",
      " [ 0.20704699  0.10925654 -0.26987569]]\n",
      "22.000000000000004\n"
     ]
    },
    {
     "data": {
      "text/plain": [
       "matrix([[8, 3, 1],\n",
       "        [2, 1, 7],\n",
       "        [6, 2, 5]])"
      ]
     },
     "execution_count": 65,
     "metadata": {},
     "output_type": "execute_result"
    }
   ],
   "source": [
    "mat1=np.matrix([[ 8,  3,  1],[ 2,  1,  7],[ 6,  2, 5]])\n",
    "print(np.linalg.inv(mat1))\n",
    "print(np.linalg.matrix_power(mat1,4))\n",
    "print(np.linalg.matrix_power(mat1,0))\n",
    "print(np.linalg.matrix_power(mat1,-4))\n",
    "print(np.linalg.det(mat1))\n",
    "mat1"
   ]
  },
  {
   "cell_type": "code",
   "execution_count": null,
   "id": "74864662",
   "metadata": {},
   "outputs": [
    {
     "data": {
      "text/plain": [
       "array([ 1,  2,  4, 45,  3,  5, 45])"
      ]
     },
     "execution_count": 66,
     "metadata": {},
     "output_type": "execute_result"
    }
   ],
   "source": [
    "var=np.array([1,2,4,3,5])\n",
    "np.insert(var,3,45)\n",
    "np.insert(var,(3,5),45) "
   ]
  },
  {
   "cell_type": "code",
   "execution_count": 67,
   "id": "13feb1b8",
   "metadata": {},
   "outputs": [
    {
     "name": "stdout",
     "output_type": "stream",
     "text": [
      "[[8 3]\n",
      " [2 1]\n",
      " [1 1]\n",
      " [6 5]]\n",
      "\n",
      "[[8 3]\n",
      " [2 1]\n",
      " [2 3]\n",
      " [6 5]]\n",
      "\n",
      "[[8 3 2]\n",
      " [2 1 3]\n",
      " [6 5 4]]\n",
      "\n",
      "[[8 3 1]\n",
      " [2 1 1]\n",
      " [6 5 1]]\n",
      "\n",
      "[8 3 2 1 5]\n",
      "\n",
      "[[2 1]\n",
      " [6 5]]\n"
     ]
    },
    {
     "data": {
      "text/plain": [
       "array([[3],\n",
       "       [1],\n",
       "       [5]])"
      ]
     },
     "execution_count": 67,
     "metadata": {},
     "output_type": "execute_result"
    }
   ],
   "source": [
    "mat1=np.array([[ 8,  3],[ 2,  1],[ 6,  5]])\n",
    "print(np.insert(mat1,2,1,axis=0))\n",
    "print()\n",
    "print(np.insert(mat1,2,[2,3],axis=0))\n",
    "print()\n",
    "print(np.insert(mat1,2,[2,3,4],axis=1))\n",
    "print()\n",
    "print(np.insert(mat1,2,1,axis=1))\n",
    "print()\n",
    "print(np.delete(mat1,4))\n",
    "print()\n",
    "print(np.delete(mat1,0,axis=0))\n",
    "np.delete(mat1,0,axis=1)"
   ]
  },
  {
   "cell_type": "code",
   "execution_count": 68,
   "id": "fc13e30f",
   "metadata": {},
   "outputs": [
    {
     "name": "stdout",
     "output_type": "stream",
     "text": [
      "[[0.63991345 0.50398371 0.55880608]\n",
      " [0.72765956 0.89763325 0.96490552]\n",
      " [0.11896297 0.24061341 0.78392467]\n",
      " [0.24602738 0.67673091 0.5322285 ]\n",
      " [0.1795291  0.55050421 0.42226202]]\n",
      "[-0.42066734 -0.10061261  0.79230689 -0.06868638 -0.89629896]\n",
      "[0.31622493 0.50794911 0.32325429 0.19373248 0.43745734]\n",
      "[[-0.51554515  0.26070581 -0.12079353]\n",
      " [-0.10015241  0.91169018 -0.14110863]\n",
      " [ 2.01854198  0.45574356 -0.76297813]\n",
      " [ 0.577119   -1.05205943 -0.72973396]\n",
      " [-0.40030012 -1.65124903 -1.08446145]]\n",
      "[13  6 13  4]\n"
     ]
    }
   ],
   "source": [
    "import random \n",
    "v=np.random.rand(5,3)\n",
    "v4=np.random.randn(5,3)\n",
    "v1=np.random.randn(5)\n",
    "v2=np.random.ranf(5)\n",
    "v3=np.random.randint(1,20,4)\n",
    "print(v)\n",
    "print(v1)\n",
    "print(v2)\n",
    "print(v4)\n",
    "print(v3)"
   ]
  },
  {
   "cell_type": "code",
   "execution_count": 69,
   "id": "86bfff57",
   "metadata": {},
   "outputs": [
    {
     "name": "stdout",
     "output_type": "stream",
     "text": [
      "[ 4 10 12]\n",
      "[8]\n"
     ]
    }
   ],
   "source": [
    "v=np.array([[19 ,4 ,10,12],[5,  7 , 4, 19],[ 2, 12 ,8,  7]])\n",
    "print(v[0,1:])\n",
    "print(v[2,2:3])"
   ]
  },
  {
   "cell_type": "code",
   "execution_count": 70,
   "id": "e15025b6",
   "metadata": {},
   "outputs": [
    {
     "name": "stdout",
     "output_type": "stream",
     "text": [
      "19410125741921287\n",
      "\n",
      "19410125741921287\n",
      "\n",
      "19410125741921287\n",
      "\n",
      "(0, 0) 19\n",
      "(0, 1) 4\n",
      "(0, 2) 10\n",
      "(0, 3) 12\n",
      "(1, 0) 5\n",
      "(1, 1) 7\n",
      "(1, 2) 4\n",
      "(1, 3) 19\n",
      "(2, 0) 2\n",
      "(2, 1) 12\n",
      "(2, 2) 8\n",
      "(2, 3) 7\n"
     ]
    }
   ],
   "source": [
    "v=np.array([[19 ,4 ,10,12],[5,  7 , 4, 19],[ 2, 12 ,8,  7]])\n",
    "for i in np.nditer(v):\n",
    "    print(i,end='')\n",
    "print('\\n')\n",
    "for i in v.flat:\n",
    "    print(i,end='')\n",
    "print('\\n')\n",
    "for i in v:\n",
    "    for j in i:\n",
    "        print(j,end='')\n",
    "print()\n",
    "print()\n",
    "for i,j in np.ndenumerate(v):\n",
    "    print(i,j)"
   ]
  },
  {
   "cell_type": "code",
   "execution_count": 71,
   "id": "1daad5c5",
   "metadata": {},
   "outputs": [
    {
     "name": "stdout",
     "output_type": "stream",
     "text": [
      "[[ 8  3 19  4]\n",
      " [ 2  1  5  8]\n",
      " [ 6  5  2  7]]\n",
      "[[ 8  3]\n",
      " [ 2  1]\n",
      " [ 6  5]\n",
      " [19  4]\n",
      " [ 5  8]\n",
      " [ 2  7]]\n"
     ]
    }
   ],
   "source": [
    "v=np.array([[19,4],[5,8],[2,7]],dtype='int16')\n",
    "mat1=np.array([[8,3],[2,1],[6,5]],dtype='int16')\n",
    "print(np.concatenate([mat1,v],axis=1))\n",
    "print(np.concatenate([mat1,v],axis=0))  "
   ]
  },
  {
   "cell_type": "code",
   "execution_count": 72,
   "id": "03edf8c2",
   "metadata": {},
   "outputs": [
    {
     "name": "stdout",
     "output_type": "stream",
     "text": [
      "[[0.99959153 0.15202803 0.63684717]\n",
      " [0.16803032 0.56870548 0.32604305]\n",
      " [0.41031256 0.38752037 0.75653394]]\n"
     ]
    },
    {
     "data": {
      "text/plain": [
       "array([[0.54669423, 0.20668568, 0.2570429 ],\n",
       "       [0.8121968 , 0.3706476 , 0.91201762],\n",
       "       [0.03026532, 0.10363865, 0.2511576 ]])"
      ]
     },
     "execution_count": 72,
     "metadata": {},
     "output_type": "execute_result"
    }
   ],
   "source": [
    "print(np.random.random((3, 3)))\n",
    "np.random.rand(3, 3)"
   ]
  },
  {
   "cell_type": "code",
   "execution_count": 73,
   "id": "71d2f1b5",
   "metadata": {},
   "outputs": [
    {
     "data": {
      "text/plain": [
       "array([[-6.49984526, -9.94266745,  7.21804647],\n",
       "       [ 0.14933538,  1.0476994 ,  8.02522005],\n",
       "       [ 7.38708195, -2.13411579, -7.58051692]])"
      ]
     },
     "execution_count": 73,
     "metadata": {},
     "output_type": "execute_result"
    }
   ],
   "source": [
    "np.random.normal(0, 6, (3, 3))\n"
   ]
  },
  {
   "cell_type": "code",
   "execution_count": 74,
   "id": "9df5159f",
   "metadata": {},
   "outputs": [
    {
     "data": {
      "text/plain": [
       "array([57, 36, 44, 27, 77, 72, 78, 75, 89, 21, 87, 48, 59, 72, 87, 81, 86,\n",
       "       23,  0, 84,  8, 11, 78, 31, 61, 53, 18, 36, 40], dtype=int32)"
      ]
     },
     "execution_count": 74,
     "metadata": {},
     "output_type": "execute_result"
    }
   ],
   "source": [
    "x1 = np.random.randint(90, size=29)\n",
    "x1"
   ]
  },
  {
   "cell_type": "code",
   "execution_count": 75,
   "id": "1f2c60c5",
   "metadata": {},
   "outputs": [
    {
     "data": {
      "text/plain": [
       "np.int64(4)"
      ]
     },
     "execution_count": 75,
     "metadata": {},
     "output_type": "execute_result"
    }
   ],
   "source": [
    "v=np.array([[[19,4,10,12],[5,7,4,19],[2,12,8,7]] ,[[19,4,10,12],[5,7,4,19],[2,12,8,7]]] )\n",
    "v.ndim\n",
    "v[1,1,2]"
   ]
  },
  {
   "cell_type": "code",
   "execution_count": 76,
   "id": "b24b47ee",
   "metadata": {},
   "outputs": [
    {
     "name": "stdout",
     "output_type": "stream",
     "text": [
      "[[5]\n",
      " [6]\n",
      " [6]]\n",
      "[[ 7  7  6  1]\n",
      " [ 8  8  6  7]\n",
      " [ 4  2  5 12]]\n"
     ]
    },
    {
     "data": {
      "text/plain": [
       "array([12,  7,  1])"
      ]
     },
     "execution_count": 76,
     "metadata": {},
     "output_type": "execute_result"
    }
   ],
   "source": [
    "v=np.array([[12, 5, 2, 4], [ 7, 6, 8, 8],[ 1, 6, 7, 7]])\n",
    "print(v[0:,1:2])\n",
    "print(v[::-1,::-1])\n",
    "v[:,0]"
   ]
  },
  {
   "cell_type": "code",
   "execution_count": null,
   "id": "6073e60a",
   "metadata": {},
   "outputs": [
    {
     "name": "stdout",
     "output_type": "stream",
     "text": [
      "[[12  5]\n",
      " [ 7  6]]\n"
     ]
    }
   ],
   "source": [
    "v_sub_copy = v[:2, :2].copy()\n",
    "print(v_sub_copy)"
   ]
  },
  {
   "cell_type": "code",
   "execution_count": 78,
   "id": "8b905e01",
   "metadata": {},
   "outputs": [
    {
     "name": "stdout",
     "output_type": "stream",
     "text": [
      "2 \n",
      "\n",
      "[[[12  5  2  4]\n",
      "  [ 7  6  8  8]\n",
      "  [ 1  6  7  7]]] \n",
      " 3 \n",
      "\n",
      "[[[12  5  2  4]]\n",
      "\n",
      " [[ 7  6  8  8]]\n",
      "\n",
      " [[ 1  6  7  7]]]\n"
     ]
    }
   ],
   "source": [
    "print(v.ndim,'\\n')\n",
    "print(v[np.newaxis, :],'\\n',(v[np.newaxis, :]).ndim,'\\n') # to get and add all data in one axis basically add  them to new dimension\n",
    "print(v[ : ,np.newaxis])"
   ]
  },
  {
   "cell_type": "code",
   "execution_count": 79,
   "id": "a1389eb6",
   "metadata": {},
   "outputs": [
    {
     "data": {
      "text/plain": [
       "array([[1, 2, 3],\n",
       "       [9, 8, 7],\n",
       "       [6, 5, 4]])"
      ]
     },
     "execution_count": 79,
     "metadata": {},
     "output_type": "execute_result"
    }
   ],
   "source": [
    "x = np.array([1, 2, 3])\n",
    "grid = np.array([[9, 8, 7],[6, 5, 4]])\n",
    "np.vstack([x, grid])"
   ]
  },
  {
   "cell_type": "code",
   "execution_count": 80,
   "id": "2512d202",
   "metadata": {},
   "outputs": [
    {
     "data": {
      "text/plain": [
       "array([[ 9,  8,  7, 99],\n",
       "       [ 6,  5,  4, 99]])"
      ]
     },
     "execution_count": 80,
     "metadata": {},
     "output_type": "execute_result"
    }
   ],
   "source": [
    "y = np.array([[99],\n",
    " [99]])\n",
    "np.hstack([grid, y])"
   ]
  },
  {
   "cell_type": "code",
   "execution_count": 81,
   "id": "df135869",
   "metadata": {},
   "outputs": [
    {
     "name": "stdout",
     "output_type": "stream",
     "text": [
      "[1 2 3] [99 99] [3 2 1]\n"
     ]
    }
   ],
   "source": [
    "x = [1, 2, 3, 99, 99, 3, 2, 1]\n",
    "x1, x2, x3 = np.split(x, [3,5])\n",
    "print(x1, x2, x3)"
   ]
  },
  {
   "cell_type": "code",
   "execution_count": 82,
   "id": "c8025a01",
   "metadata": {},
   "outputs": [
    {
     "name": "stdout",
     "output_type": "stream",
     "text": [
      "[[0 1 2 3]\n",
      " [4 5 6 7]]\n",
      "[[ 8  9 10 11]\n",
      " [12 13 14 15]]\n",
      "[[ 0  1]\n",
      " [ 4  5]\n",
      " [ 8  9]\n",
      " [12 13]]\n",
      "[[ 2  3]\n",
      " [ 6  7]\n",
      " [10 11]\n",
      " [14 15]]\n"
     ]
    }
   ],
   "source": [
    "grid = np.arange(16).reshape((4, 4))\n",
    "upper, lower = np.vsplit(grid, [2])\n",
    "print(upper)\n",
    "print(lower)\n",
    "upper, lower = np.hsplit(grid, [2])\n",
    "print(upper)\n",
    "print(lower)"
   ]
  },
  {
   "cell_type": "code",
   "execution_count": 83,
   "id": "6b7d827f",
   "metadata": {},
   "outputs": [
    {
     "name": "stdout",
     "output_type": "stream",
     "text": [
      "[3 6 2 5 3]\n",
      "[0.33333333 0.16666667 0.5        0.2        0.33333333]\n",
      "36.8 ns ± 7.76 ns per loop (mean ± std. dev. of 7 runs, 10,000,000 loops each)\n"
     ]
    }
   ],
   "source": [
    "def recip(values):\n",
    "    global order\n",
    "    order=np.empty(len(values))\n",
    "    for i in range(len(values)):\n",
    "        order[i]=1/values[i]\n",
    "    return order\n",
    "values=np.random.randint(1,10,(5))\n",
    "print(values)\n",
    "print(recip(values))\n",
    "%timeit order"
   ]
  },
  {
   "cell_type": "code",
   "execution_count": 84,
   "id": "09dffeae",
   "metadata": {},
   "outputs": [
    {
     "data": {
      "text/plain": [
       "array([[  1,   2,   4],\n",
       "       [  8,  16,  32],\n",
       "       [ 64, 128, 256]])"
      ]
     },
     "execution_count": 84,
     "metadata": {},
     "output_type": "execute_result"
    }
   ],
   "source": [
    "x = np.arange(9).reshape((3, 3))\n",
    "2 ** x"
   ]
  },
  {
   "cell_type": "code",
   "execution_count": 85,
   "id": "48976ebe",
   "metadata": {
    "scrolled": true
   },
   "outputs": [
    {
     "name": "stdout",
     "output_type": "stream",
     "text": [
      "x = [0 1 2 3]\n",
      "x + 5 = [5 6 7 8] [5 6 7 8]\n",
      "x - 5 = [-5 -4 -3 -2] [-5 -4 -3 -2]\n",
      "x * 2 = [0 2 4 6] [0 2 4 6]\n",
      "-x =  [ 0 -1 -2 -3] [ 0 -1 -2 -3]\n",
      "x ** 2 =  [0 1 4 9] [0 1 4 9]\n",
      "x % 2 =  [0 1 0 1] [0 1 0 1]\n"
     ]
    },
    {
     "data": {
      "text/plain": [
       "array([2, 1, 0, 1, 2])"
      ]
     },
     "execution_count": 85,
     "metadata": {},
     "output_type": "execute_result"
    }
   ],
   "source": [
    "x = np.arange(4)\n",
    "print(\"x =\", x)\n",
    "print(\"x + 5 =\", x + 5,np.add(x,5))\n",
    "print(\"x - 5 =\", x - 5,np.subtract(x,5))\n",
    "print(\"x * 2 =\", x * 2,np.multiply(x,2))\n",
    "print(\"-x = \", -x,np.negative(x))\n",
    "print(\"x ** 2 = \", x ** 2,np.power(x,2))\n",
    "print(\"x % 2 = \", x % 2,np.mod(x,2))\n",
    "x = np.array([-2, -1, 0, 1, 2])\n",
    "abs(x)\n"
   ]
  },
  {
   "cell_type": "code",
   "execution_count": 86,
   "id": "7fead8ad",
   "metadata": {},
   "outputs": [
    {
     "data": {
      "text/plain": [
       "3.141592653589793"
      ]
     },
     "execution_count": 86,
     "metadata": {},
     "output_type": "execute_result"
    }
   ],
   "source": [
    "np.pi"
   ]
  },
  {
   "cell_type": "code",
   "execution_count": null,
   "id": "f6bfc291",
   "metadata": {},
   "outputs": [
    {
     "name": "stdout",
     "output_type": "stream",
     "text": [
      "x =  [-1, 0, 1]\n",
      "arcsin(x) =  [-1.57079633  0.          1.57079633]\n",
      "arccos(x) =  [3.14159265 1.57079633 0.        ]\n",
      "arctan(x) =  [-0.78539816  0.          0.78539816]\n"
     ]
    }
   ],
   "source": [
    "x = [-1, 0, 1]\n",
    "print(\"x = \", x)\n",
    "print(\"arcsin(x) = \", np.arcsin(x))\n",
    "print(\"arccos(x) = \", np.arccos(x))\n",
    "print(\"arctan(x) = \", np.arctan(x))"
   ]
  },
  {
   "cell_type": "code",
   "execution_count": 88,
   "id": "f2c8e3de",
   "metadata": {},
   "outputs": [
    {
     "name": "stdout",
     "output_type": "stream",
     "text": [
      "x = [1, 2, 3]\n",
      "e^x = [ 2.71828183  7.3890561  20.08553692]\n",
      "2^x = [2. 4. 8.]\n",
      "3^x = [ 3  9 27]\n"
     ]
    }
   ],
   "source": [
    "x = [1, 2, 3]\n",
    "print(\"x =\", x)\n",
    "print(\"e^x =\", np.exp(x))\n",
    "print(\"2^x =\", np.exp2(x))\n",
    "print(\"3^x =\", np.power(3, x))"
   ]
  },
  {
   "cell_type": "code",
   "execution_count": 89,
   "id": "7d03619b",
   "metadata": {},
   "outputs": [
    {
     "name": "stdout",
     "output_type": "stream",
     "text": [
      "x = [1, 2, 4, 10]\n",
      "ln(x) = [0.         0.69314718 1.38629436 2.30258509]\n",
      "log2(x) = [0.         1.         2.         3.32192809]\n",
      "log10(x) = [0.         0.30103    0.60205999 1.        ]\n"
     ]
    }
   ],
   "source": [
    "x = [1, 2, 4, 10]\n",
    "print(\"x =\", x)\n",
    "print(\"ln(x) =\", np.log(x))\n",
    "print(\"log2(x) =\", np.log2(x))\n",
    "print(\"log10(x) =\", np.log10(x))"
   ]
  },
  {
   "cell_type": "code",
   "execution_count": 90,
   "id": "0623332c",
   "metadata": {},
   "outputs": [
    {
     "name": "stdout",
     "output_type": "stream",
     "text": [
      "[ 0. 10. 20. 30. 40.]\n"
     ]
    }
   ],
   "source": [
    "x = np.arange(5)\n",
    "y = np.empty(5)\n",
    "np.multiply(x, 10, out=y)\n",
    "print(y)"
   ]
  },
  {
   "cell_type": "code",
   "execution_count": 91,
   "id": "f62ba079",
   "metadata": {},
   "outputs": [
    {
     "name": "stdout",
     "output_type": "stream",
     "text": [
      "[ 1.  0.  2.  0.  4.  0.  8.  0. 16.  0.]\n"
     ]
    }
   ],
   "source": [
    "y = np.zeros(10)\n",
    "np.power(2, x, out=y[::2])\n",
    "print(y)"
   ]
  },
  {
   "cell_type": "code",
   "execution_count": 92,
   "id": "573e0569",
   "metadata": {},
   "outputs": [
    {
     "name": "stdout",
     "output_type": "stream",
     "text": [
      "15\n",
      "120\n",
      "[ 1  3  6 10 15]\n",
      "[  1   2   6  24 120]\n"
     ]
    }
   ],
   "source": [
    "x = np.arange(1, 6)\n",
    "print(np.add.reduce(x))\n",
    "print(np.multiply.reduce(x))\n",
    "print(np.add.accumulate(x))\n",
    "print(np.multiply.accumulate(x))"
   ]
  },
  {
   "cell_type": "code",
   "execution_count": null,
   "id": "2a448c84",
   "metadata": {},
   "outputs": [
    {
     "data": {
      "text/plain": [
       "array([[ 2,  3,  4,  5,  6],\n",
       "       [ 3,  4,  5,  6,  7],\n",
       "       [ 4,  5,  6,  7,  8],\n",
       "       [ 5,  6,  7,  8,  9],\n",
       "       [ 6,  7,  8,  9, 10]])"
      ]
     },
     "execution_count": 93,
     "metadata": {},
     "output_type": "execute_result"
    }
   ],
   "source": [
    "np.multiply.outer(x, x)\n",
    "np.add.outer(x, x)"
   ]
  },
  {
   "cell_type": "code",
   "execution_count": 94,
   "id": "ecece7e4",
   "metadata": {},
   "outputs": [
    {
     "data": {
      "text/plain": [
       "np.float64(6.08505557)"
      ]
     },
     "execution_count": 94,
     "metadata": {},
     "output_type": "execute_result"
    }
   ],
   "source": [
    "v=np.array([[ 0.8967576 ,0.03783739 ,0.75952519, 0.06682827],\n",
    "            [ 0.8354065, 0.99196818, 0.19544769, 0.43447084], \n",
    "            [ 0.66859307, 0.15038721, 0.37911423 ,0.6687194 ]])\n",
    "v.sum()\n",
    "# function np.prod,np.mean,np.std,np.var,np.percentile,np.any ,np.all "
   ]
  },
  {
   "cell_type": "code",
   "execution_count": 95,
   "id": "9b1da2c0",
   "metadata": {},
   "outputs": [
    {
     "data": {
      "text/plain": [
       "array([[1., 2., 3.],\n",
       "       [1., 2., 3.],\n",
       "       [1., 2., 3.]])"
      ]
     },
     "execution_count": 95,
     "metadata": {},
     "output_type": "execute_result"
    }
   ],
   "source": [
    "M = np.ones((3, 3))\n",
    "a = np.array([0, 1, 2])\n",
    "M+a"
   ]
  },
  {
   "cell_type": "code",
   "execution_count": 96,
   "id": "b037f38a",
   "metadata": {},
   "outputs": [
    {
     "name": "stdout",
     "output_type": "stream",
     "text": [
      "[0.         0.10204082 0.20408163 0.30612245 0.40816327 0.51020408\n",
      " 0.6122449  0.71428571 0.81632653 0.91836735 1.02040816 1.12244898\n",
      " 1.2244898  1.32653061 1.42857143 1.53061224 1.63265306 1.73469388\n",
      " 1.83673469 1.93877551 2.04081633 2.14285714 2.24489796 2.34693878\n",
      " 2.44897959 2.55102041 2.65306122 2.75510204 2.85714286 2.95918367\n",
      " 3.06122449 3.16326531 3.26530612 3.36734694 3.46938776 3.57142857\n",
      " 3.67346939 3.7755102  3.87755102 3.97959184 4.08163265 4.18367347\n",
      " 4.28571429 4.3877551  4.48979592 4.59183673 4.69387755 4.79591837\n",
      " 4.89795918 5.        ]\n",
      "[[0.        ]\n",
      " [0.10204082]\n",
      " [0.20408163]\n",
      " [0.30612245]\n",
      " [0.40816327]\n",
      " [0.51020408]\n",
      " [0.6122449 ]\n",
      " [0.71428571]\n",
      " [0.81632653]\n",
      " [0.91836735]\n",
      " [1.02040816]\n",
      " [1.12244898]\n",
      " [1.2244898 ]\n",
      " [1.32653061]\n",
      " [1.42857143]\n",
      " [1.53061224]\n",
      " [1.63265306]\n",
      " [1.73469388]\n",
      " [1.83673469]\n",
      " [1.93877551]\n",
      " [2.04081633]\n",
      " [2.14285714]\n",
      " [2.24489796]\n",
      " [2.34693878]\n",
      " [2.44897959]\n",
      " [2.55102041]\n",
      " [2.65306122]\n",
      " [2.75510204]\n",
      " [2.85714286]\n",
      " [2.95918367]\n",
      " [3.06122449]\n",
      " [3.16326531]\n",
      " [3.26530612]\n",
      " [3.36734694]\n",
      " [3.46938776]\n",
      " [3.57142857]\n",
      " [3.67346939]\n",
      " [3.7755102 ]\n",
      " [3.87755102]\n",
      " [3.97959184]\n",
      " [4.08163265]\n",
      " [4.18367347]\n",
      " [4.28571429]\n",
      " [4.3877551 ]\n",
      " [4.48979592]\n",
      " [4.59183673]\n",
      " [4.69387755]\n",
      " [4.79591837]\n",
      " [4.89795918]\n",
      " [5.        ]]\n"
     ]
    },
    {
     "data": {
      "text/plain": [
       "array([[-0.83907153, -0.83470697, -0.8216586 , ...,  0.8956708 ,\n",
       "         0.68617261,  0.41940746],\n",
       "       [-0.83907153, -0.82902677, -0.8103873 , ...,  0.92522407,\n",
       "         0.75321348,  0.52508175],\n",
       "       [-0.83907153, -0.82325668, -0.79876457, ...,  0.96427357,\n",
       "         0.84172689,  0.66446403],\n",
       "       ...,\n",
       "       [-0.83907153, -0.48233077, -0.01646558, ...,  0.96449925,\n",
       "         0.75196531,  0.41982581],\n",
       "       [-0.83907153, -0.47324558,  0.00392612, ...,  0.92542163,\n",
       "         0.68540362,  0.37440839],\n",
       "       [-0.83907153, -0.46410908,  0.02431613, ...,  0.89579384,\n",
       "         0.65690314,  0.40107702]])"
      ]
     },
     "execution_count": 96,
     "metadata": {},
     "output_type": "execute_result"
    }
   ],
   "source": [
    "x = np.linspace(0, 5, 50)\n",
    "y = np.linspace(0, 5, 50)[:, np.newaxis]\n",
    "z = np.sin(x) ** 10 + np.cos(10 + y * x) * np.cos(x)\n",
    "print(x)\n",
    "print(y)\n",
    "z"
   ]
  },
  {
   "cell_type": "code",
   "execution_count": 97,
   "id": "206b45dd",
   "metadata": {},
   "outputs": [
    {
     "data": {
      "text/plain": [
       "array([False, False,  True,  True,  True])"
      ]
     },
     "execution_count": 97,
     "metadata": {},
     "output_type": "execute_result"
    }
   ],
   "source": [
    "x = np.array([1, 2, 3, 4, 5])\n",
    "x < 3\n",
    "x > 3\n",
    "x <= 3\n",
    "x >= 3\n",
    "x != 3 \n",
    "x == 3\n",
    "(2 * x) == (x ** 2)\n",
    "np.equal(x,2)\n",
    "np.not_equal(x,3)\n",
    "np.less(x,3)\n",
    "np.less_equal(x,3)\n",
    "np.greater(x,3)\n",
    "np.greater_equal(x,3)"
   ]
  },
  {
   "cell_type": "code",
   "execution_count": null,
   "id": "9b16f189",
   "metadata": {},
   "outputs": [
    {
     "name": "stdout",
     "output_type": "stream",
     "text": [
      "9\n",
      "9\n",
      "[4 2 3]\n",
      "[3 3 2 1]\n",
      "True\n",
      "True\n"
     ]
    },
    {
     "data": {
      "text/plain": [
       "array([ True, False, False])"
      ]
     },
     "execution_count": 98,
     "metadata": {},
     "output_type": "execute_result"
    }
   ],
   "source": [
    "x = np.array([[2, 0, 0, 4],[5, 5, 6, 8], [4, 1, 4, 9]])\n",
    "print(np.count_nonzero(x < 6))\n",
    "print(np.sum(x < 6))\n",
    "print(np.sum(x < 6, axis=1))\n",
    "print(np.sum(x < 6, axis=0))\n",
    "print(np.all(x < 10))\n",
    "print(np.any(x > 8))\n",
    "np.all(x < 8, axis=1)"
   ]
  },
  {
   "cell_type": "code",
   "execution_count": 99,
   "id": "463d7829",
   "metadata": {},
   "outputs": [
    {
     "data": {
      "text/plain": [
       "array([2, 0, 0, 4, 4, 1, 4])"
      ]
     },
     "execution_count": 99,
     "metadata": {},
     "output_type": "execute_result"
    }
   ],
   "source": [
    "x[x < 5]"
   ]
  },
  {
   "cell_type": "code",
   "execution_count": 100,
   "id": "c54b7e8d",
   "metadata": {},
   "outputs": [
    {
     "name": "stdout",
     "output_type": "stream",
     "text": [
      "False\n",
      "True\n",
      "0b101010\n",
      "0b111011\n",
      "0b101010\n"
     ]
    },
    {
     "data": {
      "text/plain": [
       "'0b111011'"
      ]
     },
     "execution_count": 100,
     "metadata": {},
     "output_type": "execute_result"
    }
   ],
   "source": [
    "bin(32) \n",
    "print(bool(42 and 0))\n",
    "print(bool(42 or 0)) \n",
    "print(bin(42))\n",
    "print(bin(59))\n",
    "print(bin(42 & 59))  \n",
    "bin(42 | 59)"
   ]
  },
  {
   "cell_type": "code",
   "execution_count": 101,
   "id": "15650e21",
   "metadata": {},
   "outputs": [
    {
     "name": "stdout",
     "output_type": "stream",
     "text": [
      "5\n",
      "3\n",
      "[3 7 4]\n"
     ]
    },
    {
     "data": {
      "text/plain": [
       "array([[3, 7],\n",
       "       [4, 5]])"
      ]
     },
     "execution_count": 101,
     "metadata": {},
     "output_type": "execute_result"
    }
   ],
   "source": [
    "x = np.arange(10)\n",
    "print( np.sum((x > 4))) \n",
    "print(np.count_nonzero( (x < 3)))\n",
    "ind = [3, 7, 4] \n",
    "print(x[ind])\n",
    "ind = np.array([[3, 7],[4, 5]])\n",
    "x[ind]"
   ]
  },
  {
   "cell_type": "code",
   "execution_count": 102,
   "id": "0b6fba2b",
   "metadata": {},
   "outputs": [
    {
     "name": "stdout",
     "output_type": "stream",
     "text": [
      "[ 2  5 11]\n"
     ]
    },
    {
     "data": {
      "text/plain": [
       "array([10,  8,  9])"
      ]
     },
     "execution_count": 102,
     "metadata": {},
     "output_type": "execute_result"
    }
   ],
   "source": [
    "X = np.arange(12).reshape((3, 4))\n",
    "row = np.array([0, 1, 2])\n",
    "col = np.array([2, 1, 3])\n",
    "print(X[row, col])\n",
    "X[2, [2, 0, 1]]"
   ]
  },
  {
   "cell_type": "code",
   "execution_count": 103,
   "id": "a202e858",
   "metadata": {},
   "outputs": [
    {
     "data": {
      "text/plain": [
       "array([[0, 0, 0],\n",
       "       [2, 1, 3],\n",
       "       [4, 2, 6]])"
      ]
     },
     "execution_count": 103,
     "metadata": {},
     "output_type": "execute_result"
    }
   ],
   "source": [
    " row[:, np.newaxis] * col"
   ]
  },
  {
   "cell_type": "code",
   "execution_count": null,
   "id": "84833b23",
   "metadata": {},
   "outputs": [
    {
     "name": "stdout",
     "output_type": "stream",
     "text": [
      "[ True False  True False]\n",
      "[[0]\n",
      " [1]\n",
      " [2]]\n"
     ]
    },
    {
     "data": {
      "text/plain": [
       "array([[ 0,  2],\n",
       "       [ 4,  6],\n",
       "       [ 8, 10]])"
      ]
     },
     "execution_count": 104,
     "metadata": {},
     "output_type": "execute_result"
    }
   ],
   "source": [
    "mask = np.array([1, 0, 1, 0], dtype=bool) \n",
    "print(mask)\n",
    "print(row[:, np.newaxis])\n",
    "X[row[:, np.newaxis], mask]"
   ]
  },
  {
   "cell_type": "code",
   "execution_count": 105,
   "id": "a7ff0488",
   "metadata": {},
   "outputs": [
    {
     "name": "stdout",
     "output_type": "stream",
     "text": [
      "[0. 0. 1. 2. 3. 0. 0. 0. 0. 0.]\n"
     ]
    }
   ],
   "source": [
    "i = [2, 3, 3, 4, 4, 4] \n",
    "x = np.zeros(10)\n",
    "np.add.at(x, i, 1)\n",
    "print(x)"
   ]
  },
  {
   "cell_type": "code",
   "execution_count": 106,
   "id": "dd25d34d",
   "metadata": {},
   "outputs": [
    {
     "name": "stdout",
     "output_type": "stream",
     "text": [
      "[ 0.49671415 -0.1382643   0.64768854  1.52302986 -0.23415337 -0.23413696\n",
      "  1.57921282  0.76743473 -0.46947439  0.54256004 -0.46341769 -0.46572975\n",
      "  0.24196227 -1.91328024 -1.72491783 -0.56228753 -1.01283112  0.31424733\n",
      " -0.90802408 -1.4123037   1.46564877 -0.2257763   0.0675282  -1.42474819\n",
      " -0.54438272  0.11092259 -1.15099358  0.37569802 -0.60063869 -0.29169375\n",
      " -0.60170661  1.85227818 -0.01349722 -1.05771093  0.82254491 -1.22084365\n",
      "  0.2088636  -1.95967012 -1.32818605  0.19686124  0.73846658  0.17136828\n",
      " -0.11564828 -0.3011037  -1.47852199 -0.71984421 -0.46063877  1.05712223\n",
      "  0.34361829 -1.76304016  0.32408397 -0.38508228 -0.676922    0.61167629\n",
      "  1.03099952  0.93128012 -0.83921752 -0.30921238  0.33126343  0.97554513\n",
      " -0.47917424 -0.18565898 -1.10633497 -1.19620662  0.81252582  1.35624003\n",
      " -0.07201012  1.0035329   0.36163603 -0.64511975  0.36139561  1.53803657\n",
      " -0.03582604  1.56464366 -2.6197451   0.8219025   0.08704707 -0.29900735\n",
      "  0.09176078 -1.98756891 -0.21967189  0.35711257  1.47789404 -0.51827022\n",
      " -0.8084936  -0.50175704  0.91540212  0.32875111 -0.5297602   0.51326743\n",
      "  0.09707755  0.96864499 -0.70205309 -0.32766215 -0.39210815 -1.46351495\n",
      "  0.29612028  0.26105527  0.00511346 -0.23458713]\n",
      "[-5.         -4.47368421 -3.94736842 -3.42105263 -2.89473684 -2.36842105\n",
      " -1.84210526 -1.31578947 -0.78947368 -0.26315789  0.26315789  0.78947368\n",
      "  1.31578947  1.84210526  2.36842105  2.89473684  3.42105263  3.94736842\n",
      "  4.47368421  5.        ]\n"
     ]
    },
    {
     "data": {
      "text/plain": [
       "array([11, 10, 11, 13, 10, 10, 13, 11,  9, 11,  9,  9, 10,  6,  7,  9,  8,\n",
       "       11,  8,  7, 13, 10, 10,  7,  9, 10,  8, 11,  9,  9,  9, 14, 10,  8,\n",
       "       12,  8, 10,  6,  7, 10, 11, 10, 10,  9,  7,  9,  9, 12, 11,  7, 11,\n",
       "        9,  9, 11, 12, 12,  8,  9, 11, 12,  9, 10,  8,  8, 12, 13, 10, 12,\n",
       "       11,  9, 11, 13, 10, 13,  5, 12, 10,  9, 10,  6, 10, 11, 13,  9,  8,\n",
       "        9, 12, 11,  9, 11, 10, 12,  9,  9,  9,  7, 11, 10, 10, 10])"
      ]
     },
     "execution_count": 106,
     "metadata": {},
     "output_type": "execute_result"
    }
   ],
   "source": [
    "np.random.seed(42)\n",
    "x = np.random.randn(100)\n",
    "print(x)\n",
    "bins = np.linspace(-5, 5, 20)\n",
    "counts = np.zeros_like(bins)\n",
    "print(bins)\n",
    "i = np.searchsorted(bins, x)\n",
    "i"
   ]
  }
 ],
 "metadata": {
  "kernelspec": {
   "display_name": "Python 3",
   "language": "python",
   "name": "python3"
  },
  "language_info": {
   "codemirror_mode": {
    "name": "ipython",
    "version": 3
   },
   "file_extension": ".py",
   "mimetype": "text/x-python",
   "name": "python",
   "nbconvert_exporter": "python",
   "pygments_lexer": "ipython3",
   "version": "3.13.0"
  }
 },
 "nbformat": 4,
 "nbformat_minor": 5
}
